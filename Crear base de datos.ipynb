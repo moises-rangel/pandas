{
 "cells": [
  {
   "cell_type": "markdown",
   "id": "7162e3d1",
   "metadata": {},
   "source": [
    "# Moises Abraham Rangel Hernadez.\n",
    "#1951\n",
    "#201716990"
   ]
  },
  {
   "cell_type": "code",
   "execution_count": 5,
   "id": "20623c38",
   "metadata": {},
   "outputs": [],
   "source": [
    "import sqlite3"
   ]
  },
  {
   "cell_type": "code",
   "execution_count": 6,
   "id": "48a2d7f3",
   "metadata": {},
   "outputs": [],
   "source": [
    "conexion = sqlite3.connect(\"moises.db\")"
   ]
  },
  {
   "cell_type": "code",
   "execution_count": 7,
   "id": "5ddf07de",
   "metadata": {},
   "outputs": [],
   "source": [
    "conexion = sqlite3.connect(\"moises.db\")\n",
    "#crecion del cursor\n",
    "cursor = conexion.cursor()\n",
    "conexion.close()"
   ]
  },
  {
   "cell_type": "markdown",
   "id": "532972e9",
   "metadata": {},
   "source": [
    "# Moises Abraham Rangel Hernandez"
   ]
  },
  {
   "cell_type": "code",
   "execution_count": 8,
   "id": "c75fe7c5",
   "metadata": {},
   "outputs": [],
   "source": [
    "#conexion y cursor\n",
    "conexion = sqlite3.connect(\"moises.db\")\n",
    "cursor = conexion.cursor()\n",
    "\n",
    "#crecion de tabla\n",
    "cursor.execute(\"CREATE TABLE heroes(email VARCHAR(100),especie VARCHAR(100),nombre VARCHAR(100), edad INTEGER)\")\n",
    "conexion.close()"
   ]
  },
  {
   "cell_type": "code",
   "execution_count": 9,
   "id": "8a8040ff",
   "metadata": {},
   "outputs": [],
   "source": [
    "#conexion y cursor\n",
    "conexion = sqlite3.connect(\"moises.db\")\n",
    "cursor = conexion.cursor()\n",
    "#se usa ahora el cursor para mandar la sentencia sql insertar datos\n",
    "cursor.execute(\"INSERT INTO heroes VALUES('meliodas@dragon.com','demonio','meliodas',3000)\")\n",
    "#guarda los cambios\n",
    "conexion.commit()\n",
    "conexion.close()"
   ]
  },
  {
   "cell_type": "code",
   "execution_count": 10,
   "id": "03d23084",
   "metadata": {},
   "outputs": [
    {
     "name": "stdout",
     "output_type": "stream",
     "text": [
      "('meliodas@dragon.com', 'demonio', 'meliodas', 3000)\n"
     ]
    }
   ],
   "source": [
    "#conexion y cursor\n",
    "conexion = sqlite3.connect(\"moises.db\")\n",
    "cursor = conexion.cursor()\n",
    "#sentencia select\n",
    "cursor.execute(\"SELECT * FROM heroes\")\n",
    "# se ultiliza fetchone para tomar uno y asignar a la variable usuarios\n",
    "usuarios= cursor.fetchone()\n",
    "print(usuarios)"
   ]
  },
  {
   "cell_type": "code",
   "execution_count": 11,
   "id": "a5e404b9",
   "metadata": {},
   "outputs": [],
   "source": [
    "#conexion y cursor\n",
    "conexion = sqlite3.connect(\"moises.db\")\n",
    "cursor = conexion.cursor()\n",
    "#tupla que contiene los datos a ingresar\n",
    "usuarios = [\n",
    "    ('kakaroto@dragon.com','sayagin','goku',40),\n",
    "    ('escannor@leon.com','humano','orgullo',30),\n",
    "    ('ironman@soyironman.com','ingeniero filantropo playboy','tony strak',350),\n",
    "    ('daynaris@targarean.com','reina','daynaris',20),\n",
    "    ('homero@springflied.com','obrero','homero simpson',50)\n",
    "]\n",
    "#metodo esxcutemany que llamara a la tupla\n",
    "cursor.executemany(\"INSERT INTO heroes VALUES (?,?,?,?)\", usuarios)\n",
    "#guardar los cambios\n",
    "conexion.commit()\n",
    "#cerrar conexion\n",
    "conexion.close()"
   ]
  },
  {
   "cell_type": "code",
   "execution_count": 12,
   "id": "d2c9a5de",
   "metadata": {},
   "outputs": [
    {
     "name": "stdout",
     "output_type": "stream",
     "text": [
      "('meliodas@dragon.com', 'demonio', 'meliodas', 3000)\n",
      "('kakaroto@dragon.com', 'sayagin', 'goku', 40)\n",
      "('escannor@leon.com', 'humano', 'orgullo', 30)\n",
      "('ironman@soyironman.com', 'ingeniero filantropo playboy', 'tony strak', 350)\n",
      "('daynaris@targarean.com', 'reina', 'daynaris', 20)\n",
      "('homero@springflied.com', 'obrero', 'homero simpson', 50)\n"
     ]
    }
   ],
   "source": [
    "#conexion y cursor\n",
    "conexion = sqlite3.connect(\"moises.db\")\n",
    "cursor = conexion.cursor()\n",
    "#sentencia select\n",
    "cursor.execute(\"SELECT * FROM heroes\")\n",
    "# se ultiliza fetchall para tomar todos y asignar a la variable usuarios\n",
    "usuarios= cursor.fetchall()\n",
    "#ahora para imprimir debemos usar un ciclo for\n",
    "for i in usuarios:\n",
    "    print(i)\n",
    "conexion.close()"
   ]
  },
  {
   "cell_type": "markdown",
   "id": "b75d9d81",
   "metadata": {},
   "source": [
    "# Moises ABraham Rangel Hernandez"
   ]
  },
  {
   "cell_type": "code",
   "execution_count": 17,
   "id": "17c11c47",
   "metadata": {},
   "outputs": [
    {
     "name": "stdout",
     "output_type": "stream",
     "text": [
      "[('meliodas@dragon.com', 'demonio', 'meliodas', 3000), ('kakaroto@dragon.com', 'sayagin', 'goku', 40), ('escannor@leon.com', 'humano', 'orgullo', 30), ('ironman@soyironman.com', 'ingeniero filantropo playboy', 'tony strak', 350), ('daynaris@targarean.com', 'reina', 'daynaris', 20), ('homero@springflied.com', 'obrero', 'homero simpson', 50), ('paella@vip.com', 'Medicina', 'Giuliana', 27), ('crimewave@vip.com', 'Derecho', 'Alicia', 20), ('prince@orange.com', 'Ingenieria', 'William', 24), ('elrisortdewelini@vip.com', 'Nutrición', 'Chefsito', 25), ('planb@vip.com', 'Artes', 'Chencho', 30), ('channel@boyz.com', 'Letras', 'Frank', 32), ('vinos@aouju.com', 'Nutrición', 'Eugenia', 23)]\n"
     ]
    }
   ],
   "source": [
    "import sqlite3\n",
    "import csv\n",
    "\n",
    "#conexion y cursor\n",
    "conexion = sqlite3.connect(\"moises.db\")\n",
    "cursor = conexion.cursor()\n",
    "#open permite abrir el archivo\n",
    "archivo = open(r\"C:\\Users\\Administrador\\Desktop\\008 datos_db.txt\")\n",
    "#la variable filas se le asigna reader y como argumento archivo\n",
    "filas = csv.reader(archivo)\n",
    "#aqui vamos a insertar las filas en la tabla heroes\n",
    "cursor.executemany(\"INSERT INTO heroes VALUES (?,?,?,?)\", filas)\n",
    "\n",
    "cursor.execute(\"SELECT * FROM heroes\")\n",
    "print(cursor.fetchall())\n",
    "conexion.commit()\n",
    "conexion.close()"
   ]
  },
  {
   "cell_type": "code",
   "execution_count": null,
   "id": "15291599",
   "metadata": {},
   "outputs": [],
   "source": []
  }
 ],
 "metadata": {
  "kernelspec": {
   "display_name": "Python 3 (ipykernel)",
   "language": "python",
   "name": "python3"
  },
  "language_info": {
   "codemirror_mode": {
    "name": "ipython",
    "version": 3
   },
   "file_extension": ".py",
   "mimetype": "text/x-python",
   "name": "python",
   "nbconvert_exporter": "python",
   "pygments_lexer": "ipython3",
   "version": "3.9.7"
  }
 },
 "nbformat": 4,
 "nbformat_minor": 5
}
